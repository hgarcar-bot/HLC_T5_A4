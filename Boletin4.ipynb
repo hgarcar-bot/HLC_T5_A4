{
 "cells": [
  {
   "cell_type": "code",
   "execution_count": 13,
   "id": "ddbff261-a659-4d68-86c4-c0b8e48c394a",
   "metadata": {},
   "outputs": [
    {
     "data": {
      "text/plain": [
       "120"
      ]
     },
     "execution_count": 13,
     "metadata": {},
     "output_type": "execute_result"
    }
   ],
   "source": [
    "# actividad 1\n",
    "def factorial_rec(n):\n",
    "    if n == 1:\n",
    "        return n\n",
    "    return n * factorial_rec(n-1)\n",
    "\n",
    "factorial_rec(5)"
   ]
  },
  {
   "cell_type": "code",
   "execution_count": 5,
   "id": "02184351-5c76-4d20-af6d-41d182fc9a72",
   "metadata": {},
   "outputs": [
    {
     "data": {
      "text/plain": [
       "8"
      ]
     },
     "execution_count": 5,
     "metadata": {},
     "output_type": "execute_result"
    }
   ],
   "source": [
    "#actividad 2\n",
    "def fibonacci(n):\n",
    "    if n == 0:\n",
    "        return 0\n",
    "    if n == 1:\n",
    "        return 1\n",
    "    else:\n",
    "        return fibonacci(n-1) + fibonacci(n-2)\n",
    "        \n",
    "fibonacci(6)"
   ]
  },
  {
   "cell_type": "code",
   "execution_count": 21,
   "id": "f5502a8d-7b31-438c-af67-4e11cb1d8d03",
   "metadata": {},
   "outputs": [
    {
     "data": {
      "text/plain": [
       "8"
      ]
     },
     "execution_count": 21,
     "metadata": {},
     "output_type": "execute_result"
    }
   ],
   "source": [
    "#actividad 3\n",
    "def potencia(a, b):\n",
    "    resultado=1\n",
    "    for i in range(b):\n",
    "        resultado *=a\n",
    "    return resultado\n",
    "\n",
    "potencia(2, 3)"
   ]
  },
  {
   "cell_type": "code",
   "execution_count": 22,
   "id": "37862137-1698-46e4-b5f2-5a65c4720ae9",
   "metadata": {},
   "outputs": [
    {
     "data": {
      "text/plain": [
       "10"
      ]
     },
     "execution_count": 22,
     "metadata": {},
     "output_type": "execute_result"
    }
   ],
   "source": [
    "#actividad 4\n",
    "def suma(n):\n",
    "    if n == 0:\n",
    "        return 0\n",
    "    return n%10 + suma(int(n/10))\n",
    "\n",
    "suma(1234)"
   ]
  },
  {
   "cell_type": "code",
   "execution_count": 8,
   "id": "932d59b5-6323-4fc1-a84b-8aeeac45db5e",
   "metadata": {},
   "outputs": [
    {
     "data": {
      "text/plain": [
       "4"
      ]
     },
     "execution_count": 8,
     "metadata": {},
     "output_type": "execute_result"
    }
   ],
   "source": [
    "#actividad 5\n",
    "def contar(n):\n",
    "    if n < 10:\n",
    "        return 1\n",
    "    return 1 + contar(n/10)\n",
    "\n",
    "contar(1234)"
   ]
  }
 ],
 "metadata": {
  "kernelspec": {
   "display_name": "Python 3 (ipykernel)",
   "language": "python",
   "name": "python3"
  },
  "language_info": {
   "codemirror_mode": {
    "name": "ipython",
    "version": 3
   },
   "file_extension": ".py",
   "mimetype": "text/x-python",
   "name": "python",
   "nbconvert_exporter": "python",
   "pygments_lexer": "ipython3",
   "version": "3.13.0"
  }
 },
 "nbformat": 4,
 "nbformat_minor": 5
}
